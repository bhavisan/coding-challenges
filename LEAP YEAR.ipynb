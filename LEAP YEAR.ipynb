{
 "cells": [
  {
   "cell_type": "markdown",
   "id": "29f9d6d9",
   "metadata": {},
   "source": [
    "#### TO CHECK IF THE GIVEN YEAR IS LEAP YEAR OR NOT IN ONE LINE:"
   ]
  },
  {
   "cell_type": "markdown",
   "id": "8380ffda",
   "metadata": {},
   "source": [
    "##### Method 1:"
   ]
  },
  {
   "cell_type": "code",
   "execution_count": 5,
   "id": "4f8df736",
   "metadata": {},
   "outputs": [
    {
     "name": "stdout",
     "output_type": "stream",
     "text": [
      "Enter year:2004\n",
      "LEAP YEAR\n"
     ]
    }
   ],
   "source": [
    "#using simple if condition\n",
    "n = int(input(\"Enter year:\"))\n",
    "print(\"LEAP YEAR\" if n%400==0 or (n%4==0 and n%100!=0) else \"NOT LEAP YEAR\")\n"
   ]
  },
  {
   "cell_type": "markdown",
   "id": "f7ddceac",
   "metadata": {},
   "source": [
    "##### Method 2:"
   ]
  },
  {
   "cell_type": "code",
   "execution_count": 7,
   "id": "a49324e4",
   "metadata": {},
   "outputs": [
    {
     "name": "stdout",
     "output_type": "stream",
     "text": [
      "Enter year:2005\n",
      "NOT LEAP YEAR\n"
     ]
    }
   ],
   "source": [
    "#using in-built module \n",
    "import calendar \n",
    "n = int(input(\"Enter year:\"))\n",
    "print(\"LEAP YEAR\" if calendar.isleap(n) else \"NOT LEAP YEAR\")"
   ]
  }
 ],
 "metadata": {
  "kernelspec": {
   "display_name": "Python 3 (ipykernel)",
   "language": "python",
   "name": "python3"
  },
  "language_info": {
   "codemirror_mode": {
    "name": "ipython",
    "version": 3
   },
   "file_extension": ".py",
   "mimetype": "text/x-python",
   "name": "python",
   "nbconvert_exporter": "python",
   "pygments_lexer": "ipython3",
   "version": "3.11.4"
  }
 },
 "nbformat": 4,
 "nbformat_minor": 5
}
